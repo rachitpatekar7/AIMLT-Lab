{
  "cells": [
    {
      "cell_type": "code",
      "source": [
        "from transformers import pipeline"
      ],
      "metadata": {
        "id": "O4eU582FM-Cp"
      },
      "execution_count": 7,
      "outputs": []
    },
    {
      "cell_type": "code",
      "source": [
        "model_name = \"distilgpt2\"\n",
        "generator = pipeline(model = model_name)"
      ],
      "metadata": {
        "id": "ebwtBirGM-LJ",
        "outputId": "96ba6ff0-4bb5-430c-d07c-2e65a4a16848",
        "colab": {
          "base_uri": "https://localhost:8080/"
        }
      },
      "execution_count": 8,
      "outputs": [
        {
          "output_type": "stream",
          "name": "stderr",
          "text": [
            "/usr/local/lib/python3.10/dist-packages/transformers/tokenization_utils_base.py:1601: FutureWarning: `clean_up_tokenization_spaces` was not set. It will be set to `True` by default. This behavior will be depracted in transformers v4.45, and will be then set to `False` by default. For more details check this issue: https://github.com/huggingface/transformers/issues/31884\n",
            "  warnings.warn(\n"
          ]
        }
      ]
    },
    {
      "cell_type": "code",
      "source": [
        "max_length = 200\n",
        "prompt = input(\"Enter Prompt: \")"
      ],
      "metadata": {
        "id": "M4OQxjlvNH6P",
        "outputId": "45197526-f717-4ac0-f667-721da0287e01",
        "colab": {
          "base_uri": "https://localhost:8080/"
        }
      },
      "execution_count": 9,
      "outputs": [
        {
          "name": "stdout",
          "output_type": "stream",
          "text": [
            "Enter Prompt: what is full form of AI\n"
          ]
        }
      ]
    },
    {
      "cell_type": "code",
      "source": [
        "results = generator(prompt, max_length = max_length, num_return_sequences = 1)\n",
        "print(results[0]['generated_text'])"
      ],
      "metadata": {
        "id": "nq1DmB7gNPzg",
        "outputId": "fd4bcd58-dffa-4c9e-df31-3cbd9a320b5e",
        "colab": {
          "base_uri": "https://localhost:8080/"
        }
      },
      "execution_count": 11,
      "outputs": [
        {
          "output_type": "stream",
          "name": "stderr",
          "text": [
            "Truncation was not explicitly activated but `max_length` is provided a specific value, please use `truncation=True` to explicitly truncate examples to max length. Defaulting to 'longest_first' truncation strategy. If you encode pairs of sequences (GLUE-style) with the tokenizer you can select this strategy more precisely by providing a specific strategy to `truncation`.\n",
            "Setting `pad_token_id` to `eos_token_id`:50256 for open-end generation.\n"
          ]
        },
        {
          "output_type": "stream",
          "name": "stdout",
          "text": [
            "what is full form of AI. I am very comfortable with that.\n",
            "\n",
            "A quick refresher into an idea and the most important thing that comes to mind is how much I would like to hear it discussed in my blog.\n",
            "In response to all this, I put together a list of some of my favorite articles that you will find below. Each one needs to include some very specific things that I am not even ready to mention.\n",
            "- the idea of a more in-depth post on the subject, but I would like to make as many of the following observations as possible, but if you are interested then don't take them any further - I will keep them with a single follow-up post on the topic.\n",
            "- a few of the important principles of AI that all people should know about:\n",
            "- all human-like attributes are immutable/universe-like\n",
            "- a unique AI is very well-behaved,\n",
            "- a single system is perfectly fit within any given\n"
          ]
        }
      ]
    }
  ],
  "metadata": {
    "colab": {
      "name": "Welcome to Colaboratory",
      "toc_visible": true,
      "provenance": []
    },
    "kernelspec": {
      "display_name": "Python 3",
      "name": "python3"
    }
  },
  "nbformat": 4,
  "nbformat_minor": 0
}