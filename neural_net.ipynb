{
  "cells": [
    {
      "cell_type": "code",
      "execution_count": 3,
      "metadata": {
        "id": "645yIxAjjoXc"
      },
      "outputs": [],
      "source": [
        "import pandas as pd\n",
        "import numpy as np\n",
        "from matplotlib import pyplot as plt\n",
        "data = pd.read_csv('train.csv')\n",
        "data = np.array(data)\n",
        "m, n = data.shape\n",
        "np.random.shuffle(data)"
      ]
    },
    {
      "cell_type": "code",
      "execution_count": 4,
      "metadata": {
        "id": "YBCfiu6RjoXg"
      },
      "outputs": [],
      "source": [
        "data_dev = data[0:1000].T\n",
        "Y_dev = data_dev[0]\n",
        "X_dev = data_dev[1:n]\n",
        "X_dev = X_dev / 255."
      ]
    },
    {
      "cell_type": "code",
      "execution_count": 5,
      "metadata": {
        "id": "u70l0k5ijoXg"
      },
      "outputs": [],
      "source": [
        "data_train = data[1000:m].T\n",
        "Y_train = data_train[0]\n",
        "X_train = data_train[1:n]\n",
        "X_train = X_train / 255.\n",
        "_,m_train = X_train.shape"
      ]
    },
    {
      "cell_type": "code",
      "execution_count": 6,
      "metadata": {
        "id": "SZCWk4mhjoXh"
      },
      "outputs": [],
      "source": [
        "def init_params():\n",
        "    W1 = np.random.rand(10, 784) - 0.5\n",
        "    b1 = np.random.rand(10, 1) - 0.5\n",
        "    W2 = np.random.rand(10, 10) - 0.5\n",
        "    b2 = np.random.rand(10, 1) - 0.5\n",
        "    return W1, b1, W2, b2"
      ]
    },
    {
      "cell_type": "code",
      "execution_count": 7,
      "metadata": {
        "id": "kIElSbgAjoXh"
      },
      "outputs": [],
      "source": [
        "def ReLU(Z):\n",
        "    return np.maximum(Z, 0)"
      ]
    },
    {
      "cell_type": "code",
      "execution_count": 8,
      "metadata": {
        "id": "TqWMoNY3joXi"
      },
      "outputs": [],
      "source": [
        "def softmax(Z):\n",
        "    A = np.exp(Z) / sum(np.exp(Z))\n",
        "    return A"
      ]
    },
    {
      "cell_type": "code",
      "execution_count": 9,
      "metadata": {
        "id": "J3SuKlSUjoXi"
      },
      "outputs": [],
      "source": [
        "def forward_prop(W1, b1, W2, b2, X):\n",
        "    Z1 = W1.dot(X) + b1\n",
        "    A1 = ReLU(Z1)\n",
        "    Z2 = W2.dot(A1) + b2\n",
        "    A2 = softmax(Z2)\n",
        "    return Z1, A1, Z2, A2"
      ]
    },
    {
      "cell_type": "code",
      "execution_count": 10,
      "metadata": {
        "id": "mrNd_dDqjoXi"
      },
      "outputs": [],
      "source": [
        "\n",
        "def ReLU_deriv(Z):\n",
        "    return Z > 0"
      ]
    },
    {
      "cell_type": "code",
      "execution_count": 17,
      "metadata": {
        "id": "d2A-eRIsjoXj"
      },
      "outputs": [],
      "source": [
        "def one_hot(Y):\n",
        "    one_hot_Y = np.zeros((Y.size, int(Y.max()) + 1))\n",
        "    one_hot_Y[np.arange(Y.size), Y.astype(int)] = 1  # Ensure Y is used as an integer for indexing\n",
        "    one_hot_Y = one_hot_Y.T\n",
        "    return one_hot_Y\n"
      ]
    },
    {
      "cell_type": "code",
      "execution_count": 18,
      "metadata": {
        "id": "EwoM5FvUjoXj"
      },
      "outputs": [],
      "source": [
        "def backward_prop(Z1, A1, Z2, A2, W1, W2, X, Y):\n",
        "    one_hot_Y = one_hot(Y)\n",
        "    dZ2 = A2 - one_hot_Y\n",
        "    dW2 = 1 / m * dZ2.dot(A1.T)\n",
        "    db2 = 1 / m * np.sum(dZ2)\n",
        "    dZ1 = W2.T.dot(dZ2) * ReLU_deriv(Z1)\n",
        "    dW1 = 1 / m * dZ1.dot(X.T)\n",
        "    db1 = 1 / m * np.sum(dZ1)\n",
        "    return dW1, db1, dW2, db2\n"
      ]
    },
    {
      "cell_type": "code",
      "execution_count": 19,
      "metadata": {
        "id": "zVgSTYj9joXj"
      },
      "outputs": [],
      "source": [
        "def update_params(W1, b1, W2, b2, dW1, db1, dW2, db2, alpha):\n",
        "    W1 = W1 - alpha * dW1\n",
        "    b1 = b1 - alpha * db1\n",
        "    W2 = W2 - alpha * dW2\n",
        "    b2 = b2 - alpha * db2\n",
        "    return W1, b1, W2, b2"
      ]
    },
    {
      "cell_type": "code",
      "execution_count": 20,
      "metadata": {
        "id": "10DjjPRCjoXk"
      },
      "outputs": [],
      "source": [
        "def get_predictions(A2):\n",
        "    return np.argmax(A2, 0)"
      ]
    },
    {
      "cell_type": "code",
      "execution_count": 21,
      "metadata": {
        "id": "Z_smoKBwjoXk"
      },
      "outputs": [],
      "source": [
        "\n",
        "def get_accuracy(predictions, Y):\n",
        "    print(predictions, Y)\n",
        "    return np.sum(predictions == Y) / Y.size"
      ]
    },
    {
      "cell_type": "code",
      "execution_count": 22,
      "metadata": {
        "id": "KF3viAl5joXk",
        "outputId": "8dcbbf69-cfb1-49b5-b795-f91e5dc5b706",
        "colab": {
          "base_uri": "https://localhost:8080/",
          "height": 0
        }
      },
      "outputs": [
        {
          "output_type": "stream",
          "name": "stdout",
          "text": [
            "Iteration:  0\n",
            "[4 3 3 ... 0 6 3] [1. 7. 7. ... 3. 5. 3.]\n",
            "0.14964099639700354\n",
            "Iteration:  10\n",
            "[0 0 0 ... 0 0 0] [1. 7. 7. ... 3. 5. 3.]\n",
            "0.09808445008942689\n",
            "Iteration:  20\n",
            "[0 0 0 ... 0 0 0] [1. 7. 7. ... 3. 5. 3.]\n",
            "0.09808445008942689\n",
            "Iteration:  30\n",
            "[0 0 0 ... 0 0 0] [1. 7. 7. ... 3. 5. 3.]\n",
            "0.09808445008942689\n",
            "Iteration:  40\n",
            "[0 0 0 ... 0 0 0] [1. 7. 7. ... 3. 5. 3.]\n",
            "0.09808445008942689\n",
            "Iteration:  50\n",
            "[0 0 0 ... 0 0 0] [1. 7. 7. ... 3. 5. 3.]\n",
            "0.09808445008942689\n",
            "Iteration:  60\n",
            "[0 0 0 ... 0 0 0] [1. 7. 7. ... 3. 5. 3.]\n",
            "0.09808445008942689\n",
            "Iteration:  70\n",
            "[0 0 0 ... 0 0 0] [1. 7. 7. ... 3. 5. 3.]\n",
            "0.09808445008942689\n",
            "Iteration:  80\n",
            "[0 0 0 ... 0 0 0] [1. 7. 7. ... 3. 5. 3.]\n",
            "0.09808445008942689\n",
            "Iteration:  90\n",
            "[0 0 0 ... 0 0 0] [1. 7. 7. ... 3. 5. 3.]\n",
            "0.09808445008942689\n",
            "Iteration:  100\n",
            "[0 0 0 ... 0 0 0] [1. 7. 7. ... 3. 5. 3.]\n",
            "0.09808445008942689\n",
            "Iteration:  110\n",
            "[0 0 0 ... 0 0 0] [1. 7. 7. ... 3. 5. 3.]\n",
            "0.09808445008942689\n",
            "Iteration:  120\n",
            "[0 0 0 ... 0 0 0] [1. 7. 7. ... 3. 5. 3.]\n",
            "0.09808445008942689\n",
            "Iteration:  130\n",
            "[0 0 0 ... 0 0 0] [1. 7. 7. ... 3. 5. 3.]\n",
            "0.09808445008942689\n",
            "Iteration:  140\n",
            "[0 0 0 ... 0 0 0] [1. 7. 7. ... 3. 5. 3.]\n",
            "0.09808445008942689\n",
            "Iteration:  150\n",
            "[0 0 0 ... 0 0 0] [1. 7. 7. ... 3. 5. 3.]\n",
            "0.09808445008942689\n",
            "Iteration:  160\n",
            "[0 0 0 ... 0 0 0] [1. 7. 7. ... 3. 5. 3.]\n",
            "0.09808445008942689\n",
            "Iteration:  170\n",
            "[0 0 0 ... 0 0 0] [1. 7. 7. ... 3. 5. 3.]\n",
            "0.09808445008942689\n",
            "Iteration:  180\n",
            "[0 0 0 ... 0 0 0] [1. 7. 7. ... 3. 5. 3.]\n",
            "0.09808445008942689\n",
            "Iteration:  190\n",
            "[0 0 0 ... 0 0 0] [1. 7. 7. ... 3. 5. 3.]\n",
            "0.09808445008942689\n",
            "Iteration:  200\n",
            "[0 0 0 ... 0 0 0] [1. 7. 7. ... 3. 5. 3.]\n",
            "0.09808445008942689\n",
            "Iteration:  210\n",
            "[0 0 0 ... 0 0 0] [1. 7. 7. ... 3. 5. 3.]\n",
            "0.09808445008942689\n",
            "Iteration:  220\n",
            "[0 0 0 ... 0 0 0] [1. 7. 7. ... 3. 5. 3.]\n",
            "0.09808445008942689\n",
            "Iteration:  230\n",
            "[0 0 0 ... 0 0 0] [1. 7. 7. ... 3. 5. 3.]\n",
            "0.09808445008942689\n",
            "Iteration:  240\n",
            "[0 0 0 ... 0 0 0] [1. 7. 7. ... 3. 5. 3.]\n",
            "0.09808445008942689\n",
            "Iteration:  250\n",
            "[0 0 0 ... 0 0 0] [1. 7. 7. ... 3. 5. 3.]\n",
            "0.09808445008942689\n",
            "Iteration:  260\n",
            "[0 0 0 ... 0 0 0] [1. 7. 7. ... 3. 5. 3.]\n",
            "0.09808445008942689\n",
            "Iteration:  270\n",
            "[0 0 0 ... 0 0 0] [1. 7. 7. ... 3. 5. 3.]\n",
            "0.09808445008942689\n",
            "Iteration:  280\n",
            "[0 0 0 ... 0 0 0] [1. 7. 7. ... 3. 5. 3.]\n",
            "0.09808445008942689\n",
            "Iteration:  290\n",
            "[0 0 0 ... 0 0 0] [1. 7. 7. ... 3. 5. 3.]\n",
            "0.09808445008942689\n",
            "Iteration:  300\n",
            "[0 0 0 ... 0 0 0] [1. 7. 7. ... 3. 5. 3.]\n",
            "0.09808445008942689\n",
            "Iteration:  310\n",
            "[0 0 0 ... 0 0 0] [1. 7. 7. ... 3. 5. 3.]\n",
            "0.09808445008942689\n",
            "Iteration:  320\n",
            "[0 0 0 ... 0 0 0] [1. 7. 7. ... 3. 5. 3.]\n",
            "0.09808445008942689\n",
            "Iteration:  330\n",
            "[0 0 0 ... 0 0 0] [1. 7. 7. ... 3. 5. 3.]\n",
            "0.09808445008942689\n",
            "Iteration:  340\n",
            "[0 0 0 ... 0 0 0] [1. 7. 7. ... 3. 5. 3.]\n",
            "0.09808445008942689\n",
            "Iteration:  350\n",
            "[0 0 0 ... 0 0 0] [1. 7. 7. ... 3. 5. 3.]\n",
            "0.09808445008942689\n",
            "Iteration:  360\n",
            "[0 0 0 ... 0 0 0] [1. 7. 7. ... 3. 5. 3.]\n",
            "0.09808445008942689\n",
            "Iteration:  370\n",
            "[0 0 0 ... 0 0 0] [1. 7. 7. ... 3. 5. 3.]\n",
            "0.09808445008942689\n",
            "Iteration:  380\n",
            "[0 0 0 ... 0 0 0] [1. 7. 7. ... 3. 5. 3.]\n",
            "0.09808445008942689\n",
            "Iteration:  390\n",
            "[0 0 0 ... 0 0 0] [1. 7. 7. ... 3. 5. 3.]\n",
            "0.09808445008942689\n",
            "Iteration:  400\n",
            "[0 0 0 ... 0 0 0] [1. 7. 7. ... 3. 5. 3.]\n",
            "0.09808445008942689\n",
            "Iteration:  410\n",
            "[0 0 0 ... 0 0 0] [1. 7. 7. ... 3. 5. 3.]\n",
            "0.09808445008942689\n",
            "Iteration:  420\n",
            "[0 0 0 ... 0 0 0] [1. 7. 7. ... 3. 5. 3.]\n",
            "0.09808445008942689\n",
            "Iteration:  430\n",
            "[0 0 0 ... 0 0 0] [1. 7. 7. ... 3. 5. 3.]\n",
            "0.09808445008942689\n",
            "Iteration:  440\n",
            "[0 0 0 ... 0 0 0] [1. 7. 7. ... 3. 5. 3.]\n",
            "0.09808445008942689\n",
            "Iteration:  450\n",
            "[0 0 0 ... 0 0 0] [1. 7. 7. ... 3. 5. 3.]\n",
            "0.09808445008942689\n",
            "Iteration:  460\n",
            "[0 0 0 ... 0 0 0] [1. 7. 7. ... 3. 5. 3.]\n",
            "0.09808445008942689\n",
            "Iteration:  470\n",
            "[0 0 0 ... 0 0 0] [1. 7. 7. ... 3. 5. 3.]\n",
            "0.09808445008942689\n",
            "Iteration:  480\n",
            "[0 0 0 ... 0 0 0] [1. 7. 7. ... 3. 5. 3.]\n",
            "0.09808445008942689\n",
            "Iteration:  490\n",
            "[0 0 0 ... 0 0 0] [1. 7. 7. ... 3. 5. 3.]\n",
            "0.09808445008942689\n"
          ]
        }
      ],
      "source": [
        "\n",
        "def gradient_descent(X, Y, alpha, iterations):\n",
        "    W1, b1, W2, b2 = init_params()\n",
        "    for i in range(iterations):\n",
        "        Z1, A1, Z2, A2 = forward_prop(W1, b1, W2, b2, X)\n",
        "        dW1, db1, dW2, db2 = backward_prop(Z1, A1, Z2, A2, W1, W2, X, Y)\n",
        "        W1, b1, W2, b2 = update_params(W1, b1, W2, b2, dW1, db1, dW2, db2, alpha)\n",
        "        if i % 10 == 0:\n",
        "            print(\"Iteration: \", i)\n",
        "            predictions = get_predictions(A2)\n",
        "            print(get_accuracy(predictions, Y))\n",
        "    return W1, b1, W2, b2\n",
        "\n",
        "W1, b1, W2, b2 = gradient_descent(X_train, Y_train, 0.10, 500)"
      ]
    },
    {
      "cell_type": "code",
      "execution_count": 23,
      "metadata": {
        "id": "afCIt7wHjoXl"
      },
      "outputs": [],
      "source": [
        "def make_predictions(X, W1, b1, W2, b2):\n",
        "    _, _, _, A2 = forward_prop(W1, b1, W2, b2, X)\n",
        "    predictions = get_predictions(A2)\n",
        "    return predictions"
      ]
    },
    {
      "cell_type": "code",
      "execution_count": 24,
      "metadata": {
        "id": "wwaIFKK9joXl"
      },
      "outputs": [],
      "source": [
        "\n",
        "def test_prediction(index, W1, b1, W2, b2):\n",
        "    current_image = X_train[:, index, None]\n",
        "    prediction = make_predictions(X_train[:, index, None], W1, b1, W2, b2)\n",
        "    label = Y_train[index]\n",
        "    print(\"Prediction: \", prediction)\n",
        "    print(\"Label: \", label)\n",
        "\n",
        "    current_image = current_image.reshape((28, 28)) * 255\n",
        "    plt.gray()\n",
        "    plt.imshow(current_image, interpolation='nearest')\n",
        "    plt.show()"
      ]
    },
    {
      "cell_type": "code",
      "execution_count": 25,
      "metadata": {
        "id": "I022ibevjoXl",
        "outputId": "0af0b8e9-1717-4fa9-c086-712c290cd616",
        "colab": {
          "base_uri": "https://localhost:8080/",
          "height": 465
        }
      },
      "outputs": [
        {
          "output_type": "stream",
          "name": "stdout",
          "text": [
            "Prediction:  [0]\n",
            "Label:  7.0\n"
          ]
        },
        {
          "output_type": "display_data",
          "data": {
            "text/plain": [
              "<Figure size 640x480 with 1 Axes>"
            ],
            "image/png": "[encoded data removed]"
          },
          "metadata": {}
        }
      ],
      "source": [
        "test_prediction(1, W1, b1, W2, b2)"
      ]
    }
  ],
  "metadata": {
    "kernelspec": {
      "display_name": "Python 3",
      "language": "python",
      "name": "python3"
    },
    "language_info": {
      "codemirror_mode": {
        "name": "ipython",
        "version": 3
      },
      "file_extension": ".py",
      "mimetype": "text/x-python",
      "name": "python",
      "nbconvert_exporter": "python",
      "pygments_lexer": "ipython3",
      "version": "3.10.0"
    },
    "colab": {
      "provenance": []
    }
  },
  "nbformat": 4,
  "nbformat_minor": 0
}